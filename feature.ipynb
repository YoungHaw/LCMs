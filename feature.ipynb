{
 "cells": [
  {
   "cell_type": "code",
   "execution_count": 42,
   "id": "245f2ad9",
   "metadata": {},
   "outputs": [],
   "source": [
    "import pandas as pd\n",
    "import numpy as np\n",
    "from scipy.stats import pearsonr\n",
    "import pandas as pd\n",
    "import numpy as np\n",
    "from sklearn.feature_selection import VarianceThreshold\n",
    "import pandas as pd\n",
    "from sklearn.datasets import load_breast_cancer\n",
    "from sklearn.feature_selection import VarianceThreshold\n",
    "from sklearn.ensemble import RandomForestClassifier\n",
    "from sklearn.model_selection import train_test_split\n",
    "from sklearn.metrics import mean_squared_error\n",
    "import pandas as pd\n",
    "import numpy as np\n",
    "from sklearn.metrics import r2_score\n",
    "import matplotlib.pyplot as plt\n",
    "import warnings\n",
    "warnings.filterwarnings(\"ignore\")\n",
    "import os\n",
    "\n",
    "data = pd.read_excel(file_path, header=None)\n",
    "\n",
    "data_cleaned = data.loc[:, (data != 0).any(axis=0)]\n",
    "\n",
    "X = data.iloc[:,0:]\n",
    "\n",
    "selector = VarianceThreshold(threshold=0.01)\n",
    "X_new = selector.fit_transform(X)\n",
    "\n",
    "# Extract the relevant data for the model\n",
    "X = data.iloc[:, 1:-1]  # Features (from column B to BCO, rows 2 to 19)\n",
    "y = data.iloc[:, -1]    # Target (column BCP, rows 2 to 1+9)\n",
    "model = RandomForestClassifier(random_state=0)\n",
    "model.fit(X, y)\n",
    "\n",
    "from sklearn.feature_selection import RFECV\n",
    "from sklearn.feature_selection import RFE\n",
    "from sklearn.model_selection import cross_val_score\n",
    "selector = RFECV(model, step=200, cv=10, n_jobs=-1)     \n",
    "selector = selector.fit(X, y)\n",
    "X_wrapper = selector.transform(X)         \n",
    "score =cross_val_score(model , X_wrapper, y, cv=10,n_jobs=-1).mean()   \n",
    "print(score)\n",
    "print(selector.support_)                                \n",
    "print(selector.n_features_)                       \n",
    "print(selector.ranking_)                                \n",
    "from sklearn.linear_model import Lasso\n",
    "from sklearn.feature_selection import SelectFromModel\n",
    "\n",
    "lasso = Lasso(alpha=0.1)  \n",
    "selector = SelectFromModel(lasso)\n",
    "selector.fit(X, y)\n",
    "\n",
    "selected_features = X.columns[selector.get_support()]\n",
    "print( selected_features) "
   ]
  },
  {
   "cell_type": "code",
   "execution_count": null,
   "id": "5e43fec2",
   "metadata": {},
   "outputs": [],
   "source": []
  }
 ],
 "metadata": {
  "kernelspec": {
   "display_name": "Python 3 (ipykernel)",
   "language": "python",
   "name": "python3"
  },
  "language_info": {
   "codemirror_mode": {
    "name": "ipython",
    "version": 3
   },
   "file_extension": ".py",
   "mimetype": "text/x-python",
   "name": "python",
   "nbconvert_exporter": "python",
   "pygments_lexer": "ipython3",
   "version": "3.9.19"
  }
 },
 "nbformat": 4,
 "nbformat_minor": 5
}
