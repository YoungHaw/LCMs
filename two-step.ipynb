{
 "cells": [
  {
   "cell_type": "code",
   "execution_count": null,
   "id": "e60153ee",
   "metadata": {},
   "outputs": [],
   "source": [
    "import numpy as np\n",
    "import matplotlib.pyplot as plt\n",
    "from sklearn.mixture import GaussianMixture\n",
    "from sklearn.cluster import AgglomerativeClustering\n",
    "\n",
    "\n",
    "np.random.seed(42)\n",
    "\n",
    "lowest_bic = np.infty\n",
    "bic = []\n",
    "n_components_range = range(1, 7)\n",
    "best_gmm = None\n",
    "\n",
    "for n_components in n_components_range:\n",
    "    gmm = GaussianMixture(n_components=n_components, covariance_type='full', random_state=42)\n",
    "    gmm.fit(data)\n",
    "    bic_score = gmm.bic(data)\n",
    "    bic.append(bic_score)\n",
    "    if bic_score < lowest_bic:\n",
    "        lowest_bic = bic_score\n",
    "        best_gmm = gmm\n",
    "\n",
    "print(f\"{best_gmm.n_components}\")\n",
    "\n",
    "\n",
    "labels_first = best_gmm.predict(data)\n",
    "\n",
    "\n",
    "centroids = []\n",
    "for i in range(best_gmm.n_components):\n",
    "    centroids.append(data[labels_first == i].mean(axis=0))\n",
    "centroids = np.array(centroids)\n",
    "\n",
    "agglo = AgglomerativeClustering(n_clusters=2)\n",
    "labels_second = agglo.fit_predict(centroids)\n",
    "\n",
    "print(labels_first[:10])\n",
    "print(labels_second)\n",
    "\n",
    "# 可视化\n",
    "plt.scatter(data[:, 0], data[:, 1], c=labels_first, cmap='viridis', label='First-level clusters')\n",
    "plt.scatter(centroids[:, 0], centroids[:, 1], c=labels_second, cmap='coolwarm', marker='X', s=200, label='Second-level clusters (centroids)')\n",
    "plt.legend()\n",
    "plt.title('Two-level Clustering with Bayesian Criterion')\n",
    "plt.show()\n"
   ]
  }
 ],
 "metadata": {
  "kernelspec": {
   "display_name": "Python 3 (ipykernel)",
   "language": "python",
   "name": "python3"
  },
  "language_info": {
   "codemirror_mode": {
    "name": "ipython",
    "version": 3
   },
   "file_extension": ".py",
   "mimetype": "text/x-python",
   "name": "python",
   "nbconvert_exporter": "python",
   "pygments_lexer": "ipython3",
   "version": "3.9.19"
  }
 },
 "nbformat": 4,
 "nbformat_minor": 5
}
