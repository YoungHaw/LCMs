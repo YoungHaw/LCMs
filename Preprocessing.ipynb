{
 "cells": [
  {
   "cell_type": "code",
   "execution_count": 2,
   "id": "0629f38f",
   "metadata": {},
   "outputs": [],
   "source": [
    "import pandas as pd\n",
    "from sklearn.preprocessing import StandardScaler\n",
    "\n",
    "# 读取 Excel 文件\n",
    "data = pd.read_excel('data.xlsx', header=None)\n",
    "X = data.iloc[:, :].values\n",
    "\n",
    "# 标准化特征\n",
    "scaler = StandardScaler()\n",
    "X_s = scaler.fit_transform(X)\n",
    "\n",
    "# 将标准化后的数据转换为 DataFrame\n",
    "X_s_df = pd.DataFrame(X_s)\n",
    "\n",
    "# 保存为 Excel 文件\n",
    "X_s_df.to_excel(\"data_scaler.xlsx\", index=False, header=None)\n"
   ]
  },
  {
   "cell_type": "code",
   "execution_count": 6,
   "id": "127d0adf",
   "metadata": {},
   "outputs": [
    {
     "name": "stdout",
     "output_type": "stream",
     "text": [
      "[[2.79110000e+01 3.87647448e+03 4.01683066e+03 ... 3.13299700e+01\n",
      "  1.12069420e+02 8.95308000e+00]\n",
      " [6.08449000e+01 5.57531775e+03 5.24790259e+03 ... 5.30535200e+01\n",
      "  2.57117330e+02 1.38312400e+01]\n",
      " [2.69378000e+01 2.84660919e+03 2.33510816e+03 ... 2.65375600e+01\n",
      "  8.21521000e+01 8.83620000e+00]\n",
      " ...\n",
      " [2.47738000e+01 9.84937813e+03 1.12572544e+04 ... 6.18301300e+01\n",
      "  2.68640890e+02 1.28360200e+01]\n",
      " [3.01759000e+01 1.02085168e+04 1.14792414e+04 ... 6.08328700e+01\n",
      "  2.83483220e+02 1.46571300e+01]\n",
      " [2.33389000e+01 4.82548027e+03 4.38288353e+03 ... 4.28578800e+01\n",
      "  9.57688100e+01 8.47702000e+00]]\n"
     ]
    }
   ],
   "source": [
    "X_sc = X[1213:]\n",
    "print(X_sc)"
   ]
  },
  {
   "cell_type": "code",
   "execution_count": 9,
   "id": "d107d8b5",
   "metadata": {},
   "outputs": [
    {
     "data": {
      "text/plain": [
       "array([[  86.4301 , 4567.22102, 4047.61684, ...,   46.65137,  116.41588,\n",
       "           9.31746],\n",
       "       [  45.7208 , 5130.39064, 4906.69951, ...,   33.69438,  191.84877,\n",
       "          14.78508],\n",
       "       [  62.6533 , 2479.97   , 1965.36046, ...,   35.71528,   62.61918,\n",
       "           7.16662],\n",
       "       ...,\n",
       "       [  73.0239 , 2860.59549, 2216.90231, ...,   34.59869,   71.91638,\n",
       "          11.13852],\n",
       "       [  47.2357 , 4189.11178, 3377.95636, ...,   38.83767,  127.87858,\n",
       "          13.66575],\n",
       "       [  72.7935 , 4051.02972, 3823.87675, ...,   48.2224 ,  132.06442,\n",
       "          13.7946 ]])"
      ]
     },
     "execution_count": 9,
     "metadata": {},
     "output_type": "execute_result"
    }
   ],
   "source": [
    "\n",
    "# 读取Excel文件\n",
    "data = pd.read_excel('data2.xlsx', header=None)\n",
    "X = data.iloc[:, :-1].values\n",
    "y = data.iloc[:, -1].values\n",
    "\n",
    "# 标准化特征\n",
    "scaler = StandardScaler()\n",
    "X_scaled  = scaler.fit_transform(X)\n",
    "\n",
    "\n",
    "X"
   ]
  },
  {
   "cell_type": "code",
   "execution_count": null,
   "id": "ed79b86d",
   "metadata": {},
   "outputs": [],
   "source": [
    "data = pd.read_excel('data.xlsx', header=None)\n",
    "X = data.iloc[:, :-1].values"
   ]
  }
 ],
 "metadata": {
  "kernelspec": {
   "display_name": "Python 3 (ipykernel)",
   "language": "python",
   "name": "python3"
  },
  "language_info": {
   "codemirror_mode": {
    "name": "ipython",
    "version": 3
   },
   "file_extension": ".py",
   "mimetype": "text/x-python",
   "name": "python",
   "nbconvert_exporter": "python",
   "pygments_lexer": "ipython3",
   "version": "3.9.19"
  }
 },
 "nbformat": 4,
 "nbformat_minor": 5
}
